{
 "cells": [
  {
   "cell_type": "markdown",
   "metadata": {},
   "source": [
    "##### 1. 파이썬의 출력문"
   ]
  },
  {
   "cell_type": "code",
   "execution_count": null,
   "metadata": {
    "vscode": {
     "languageId": "plaintext"
    }
   },
   "outputs": [],
   "source": [
    "#이것은 주석입니다"
   ]
  },
  {
   "cell_type": "code",
   "execution_count": null,
   "metadata": {},
   "outputs": [
    {
     "data": {
      "text/plain": [
       "hello\n",
       "hello\n",
       "10\n"
      ]
     },
     "metadata": {},
     "output_type": "display_data"
    }
   ],
   "source": [
    "#이것은 주석입니다\n",
    "#파이선의 출력문은 print() 함수를 사용한다\n",
    "#문자열을 홀따 혹은 쌍따로 감싼다.\n",
    "#파이썬은 ;을 붙이지 않는다 오류가 나진 않지만 안쓴다\n",
    "print('hello')\n",
    "print(\"hello\")\n",
    "print(10)"
   ]
  },
  {
   "cell_type": "code",
   "execution_count": null,
   "metadata": {},
   "outputs": [
    {
     "data": {
      "text/plain": [
       "8\n",
       "2.5\n",
       "2\n",
       "1\n",
       "pythonjava\n"
      ]
     },
     "metadata": {},
     "output_type": "display_data"
    }
   ],
   "source": [
    "#파이썬의 연산 결과 출력\n",
    "\n",
    "print(5+3)\n",
    "print(10/4)  #연산 결과 실수면 실수로 나옴\n",
    "print(10//4) #나눈 결과의 몫만 나옴\n",
    "print(10%3)  #나눗셈의 나머지 %\n",
    "print('python'+'java')\n",
    "#print('python'+3) #파이썬은 문자열과 숫자 더하기 안됨"
   ]
  },
  {
   "cell_type": "code",
   "execution_count": null,
   "metadata": {},
   "outputs": [
    {
     "data": {
      "text/plain": [
       "10 20 python\n",
       "1\n",
       "1"
      ]
     },
     "metadata": {},
     "output_type": "display_data"
    }
   ],
   "source": [
    "#파이썬의 또다른 출력 기능\n",
    "print(10,20,'python')\n",
    "\n",
    "# print() 함수의 두번째 end 매개변수에 값을 지정하면\n",
    "# 출력 후 실행할 내용 변경 가능\n",
    "# 엔드 작성 안하면 디폴트가 \"\\n이 들어감\"\n",
    "print(1, end='') #파이썬은 한줄 개행이 된다\n",
    "print(1, end='')"
   ]
  },
  {
   "cell_type": "markdown",
   "metadata": {},
   "source": [
    "#### 2. python의 변수"
   ]
  },
  {
   "cell_type": "code",
   "execution_count": null,
   "metadata": {},
   "outputs": [
    {
     "data": {
      "text/plain": [
       "10\n",
       "10 홍길동\n"
      ]
     },
     "metadata": {},
     "output_type": "display_data"
    }
   ],
   "source": [
    "# 파이썬의 변수는 내부적으로만 자료형이 존재\n",
    "# 변수를 선언할 때 자료형 작성 안함\n",
    "\n",
    "# 변수의 선언 및 초기화\n",
    "num1 = 10\n",
    "print(num1)\n",
    "\n",
    "myName = '홍길동'\n",
    "print(num1 , myName)"
   ]
  },
  {
   "cell_type": "code",
   "execution_count": null,
   "metadata": {},
   "outputs": [
    {
     "data": {
      "text/plain": [
       "10\n"
      ]
     },
     "metadata": {},
     "output_type": "display_data"
    }
   ],
   "source": [
    "# 코드를 입력하는 셀이 달라도 실행된 내용은 공유함\n",
    "print(num1)"
   ]
  },
  {
   "cell_type": "code",
   "execution_count": null,
   "metadata": {},
   "outputs": [
    {
     "data": {
      "text/plain": [
       "나이는 30이고 주소는 울산시입니다\n"
      ]
     },
     "metadata": {},
     "output_type": "display_data"
    }
   ],
   "source": [
    "#출력문에서 변수 사용하기\n",
    "age = 30\n",
    "addr = '울산시'\n",
    "\n",
    "#자바스크립트의 백틱과 같은 기능\n",
    "# 전체 문자의 맨 앞에 f문자를 입력한다\n",
    "# 변수는 {}안에 변수명을 기입\n",
    "print(f'나이는 {age}이고 주소는 {addr}입니다')"
   ]
  },
  {
   "cell_type": "code",
   "execution_count": null,
   "metadata": {},
   "outputs": [
    {
     "data": {
      "text/plain": [
       "<class 'int'>\n",
       "<class 'float'>\n",
       "<class 'str'>\n"
      ]
     },
     "metadata": {},
     "output_type": "display_data"
    }
   ],
   "source": [
    "# 파이썬은 내부적으로는 변수마다 자료형이 존재한다\n",
    "num2 = 20\n",
    "num3 = 10.5\n",
    "strData = 'python'\n",
    "\n",
    "#type() 함수의 매개변수에 변수를 전달하면\n",
    "#전달된 변수의 자료형을 확인할 수 있다.\n",
    "\n",
    "print(type(num2))\n",
    "print(type(num3))\n",
    "print(type(strData))\n",
    "\n",
    "#[] = 리스트 {} = 딕셔너리"
   ]
  },
  {
   "cell_type": "code",
   "execution_count": null,
   "metadata": {},
   "outputs": [
    {
     "data": {
      "text/plain": [
       "1\n",
       "김자바\n"
      ]
     },
     "metadata": {},
     "output_type": "display_data"
    }
   ],
   "source": [
    "list1 = [1,2,3]\n",
    "print(list1[0])\n",
    "\n",
    "dic1 = {\n",
    "  'stuName' : '김자바', \n",
    "  'stuAge' : 20\n",
    "}\n",
    "\n",
    "print(dic1['stuName'])"
   ]
  },
  {
   "cell_type": "code",
   "execution_count": null,
   "metadata": {},
   "outputs": [],
   "source": []
  },
  {
   "cell_type": "code",
   "execution_count": null,
   "metadata": {},
   "outputs": [],
   "source": []
  },
  {
   "cell_type": "code",
   "execution_count": null,
   "metadata": {},
   "outputs": [],
   "source": []
  }
 ],
 "metadata": {
  "language_info": {
   "name": "python"
  }
 },
 "nbformat": 4,
 "nbformat_minor": 2
}
