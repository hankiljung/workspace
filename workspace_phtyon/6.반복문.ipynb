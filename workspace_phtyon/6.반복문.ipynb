{
 "cells": [
  {
   "cell_type": "code",
   "execution_count": null,
   "metadata": {},
   "outputs": [
    {
     "name": "stdout",
     "output_type": "stream",
     "text": [
      "반복문 실행 1 \n",
      "반복문 실행 3 \n",
      "반복문 실행 5 \n"
     ]
    }
   ],
   "source": [
    "# 파이썬은 for-each문만 제공함(일반 for문 없음)\n",
    "\n",
    "list = [1,3,5]\n",
    "\n",
    "for i in list : \n",
    "  print(f'반복문 실행 {\n",
    "    i}' ,end=' ')\n",
    "  print('')\n"
   ]
  },
  {
   "cell_type": "code",
   "execution_count": 11,
   "metadata": {},
   "outputs": [],
   "source": [
    "# 일반적인 자바의 반복문 \n",
    "# int[] arr = {1,3,5}\n",
    "# for (int e : arr){ }"
   ]
  },
  {
   "cell_type": "code",
   "execution_count": 41,
   "metadata": {},
   "outputs": [
    {
     "name": "stdout",
     "output_type": "stream",
     "text": [
      "77 77 77 77 77 77 77 7 7 7 7 7 7 7 "
     ]
    }
   ],
   "source": [
    "# 같은 코드를 단순히 반복 실행 시킬 때는 range()를 사용한다\n",
    "# range(반복 시작 숫자, 반복 마지막 숫자(미포함))\n",
    "\n",
    "for e in range(0,7) :\n",
    "  print(77 , end=' ')\n",
    "\n",
    "# range() 함수의 첫번째 인자로 0을 전달할땐 첫번재 인자를 생략해도 된다.\n",
    "\n",
    "for e in range(7) : \n",
    "  print(7 , end=' ')"
   ]
  },
  {
   "cell_type": "code",
   "execution_count": 49,
   "metadata": {},
   "outputs": [
    {
     "name": "stdout",
     "output_type": "stream",
     "text": [
      "i=0 , num = 1\n",
      "i=1 , num = 2\n",
      "i=2 , num = 3\n",
      "i=3 , num = 4\n",
      "i=4 , num = 5\n"
     ]
    }
   ],
   "source": [
    "# 반복의 index를 알고 싶다면 enumerate() 함수를 사용해야 함\n",
    "\n",
    "list1 = [1,2,3,4,5]\n",
    "\n",
    "for i, num in enumerate(list1) : \n",
    "  print(f'i={i} , num = {num}')"
   ]
  },
  {
   "cell_type": "code",
   "execution_count": 10,
   "metadata": {},
   "outputs": [
    {
     "name": "stdout",
     "output_type": "stream",
     "text": [
      "안녕하세요\n"
     ]
    }
   ],
   "source": [
    "# 번외. 키보드로 데이터 입력 받기\n",
    "num = input('정수를 입력하세요 : ')\n",
    "print(num)\n"
   ]
  },
  {
   "cell_type": "code",
   "execution_count": null,
   "metadata": {},
   "outputs": [],
   "source": []
  },
  {
   "cell_type": "code",
   "execution_count": null,
   "metadata": {},
   "outputs": [],
   "source": []
  },
  {
   "cell_type": "code",
   "execution_count": null,
   "metadata": {},
   "outputs": [],
   "source": []
  },
  {
   "cell_type": "code",
   "execution_count": null,
   "metadata": {},
   "outputs": [],
   "source": []
  }
 ],
 "metadata": {
  "kernelspec": {
   "display_name": "Python 3",
   "language": "python",
   "name": "python3"
  },
  "language_info": {
   "codemirror_mode": {
    "name": "ipython",
    "version": 3
   },
   "file_extension": ".py",
   "mimetype": "text/x-python",
   "name": "python",
   "nbconvert_exporter": "python",
   "pygments_lexer": "ipython3",
   "version": "3.13.2"
  }
 },
 "nbformat": 4,
 "nbformat_minor": 2
}
