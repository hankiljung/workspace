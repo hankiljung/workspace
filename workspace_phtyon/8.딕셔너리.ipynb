{
 "cells": [
  {
   "cell_type": "code",
   "execution_count": null,
   "metadata": {},
   "outputs": [],
   "source": [
    "#딕셔너리 \n",
    "# 다수의 데이터를 key와 value의 한쌍으로 저장하는 자료형"
   ]
  },
  {
   "cell_type": "code",
   "execution_count": 2,
   "metadata": {},
   "outputs": [
    {
     "name": "stdout",
     "output_type": "stream",
     "text": [
      "{'학번': 3, '이름': '이', '점수': 80}\n"
     ]
    }
   ],
   "source": [
    "#딕셔너리 데이터를 생성\n",
    "dic1  = {} #빈 딕셔너리 데이터 생성\n",
    "dic2 = {\n",
    "  '학번' : 3 , \n",
    "  '이름' : '김' , \n",
    "  '점수' : 80 , \n",
    "  '이름' : '이'\n",
    "}\n",
    "print(dic2)"
   ]
  },
  {
   "cell_type": "code",
   "execution_count": 6,
   "metadata": {},
   "outputs": [
    {
     "data": {
      "text/plain": [
       "80"
      ]
     },
     "execution_count": 6,
     "metadata": {},
     "output_type": "execute_result"
    }
   ],
   "source": [
    "#딕셔너리 데이터 읽기\n",
    "dic2['점수']\n"
   ]
  },
  {
   "cell_type": "code",
   "execution_count": null,
   "metadata": {},
   "outputs": [
    {
     "name": "stdout",
     "output_type": "stream",
     "text": [
      "{'modelName': 's20', 'price': 5000, 'color': 'red'}\n"
     ]
    }
   ],
   "source": [
    "#딕셔너리 데이터 추가\n",
    "phone = {\n",
    "  'modelName' : 's20',\n",
    "  'price' : 10000\n",
    "}\n",
    "#딕셔너리 데이터 추가\n",
    "phone['color'] ='red'\n",
    "\n",
    "#딕셔너리 데이터 변경\n",
    "phone['price'] = 5000\n",
    "\n",
    "print(phone)"
   ]
  },
  {
   "cell_type": "code",
   "execution_count": 11,
   "metadata": {},
   "outputs": [
    {
     "name": "stdout",
     "output_type": "stream",
     "text": [
      "{'brand': 'samsung', 'price': 1000}\n"
     ]
    }
   ],
   "source": [
    "#딕셔너리 데이터 삭제\n",
    "monitor = {\n",
    "  'brand' : 'samsung' , \n",
    "  'color' : 'black' , \n",
    "  'price' : 1000\n",
    "}\n",
    "\n",
    "#monitor 딕셔너리 데이터 삭제\n",
    "del monitor['color']\n",
    "\n",
    "print(monitor)\n"
   ]
  },
  {
   "cell_type": "code",
   "execution_count": null,
   "metadata": {},
   "outputs": [
    {
     "name": "stdout",
     "output_type": "stream",
     "text": [
      "samsung\n",
      "black\n",
      "1000\n"
     ]
    }
   ],
   "source": [
    "monitor = {\n",
    "  'brand' : 'samsung' , \n",
    "  'color' : 'black' , \n",
    "  'price' : 1000\n",
    "}\n",
    "\n",
    "#딕셔너리 데이터를 반복돌리면 key값만 나옴 \n",
    "for e in monitor : \n",
    "  print(monitor[e])\n"
   ]
  },
  {
   "cell_type": "code",
   "execution_count": 30,
   "metadata": {},
   "outputs": [],
   "source": [
    "member ={\n",
    "  '이름' : '홍길동' , \n",
    "  '나이' : 20, \n",
    "  '취미' : [ '운동', '독서' , '등산'],\n",
    "  '가족' : [{'관계' : '아빠',\n",
    "              '이름' : '홍아빠'\n",
    "           },\n",
    "           {'엄마' : '홍엄마',\n",
    "            '관계' : '홍엄마'}]\n",
    "}"
   ]
  },
  {
   "cell_type": "code",
   "execution_count": null,
   "metadata": {},
   "outputs": [
    {
     "name": "stdout",
     "output_type": "stream",
     "text": [
      "['운동', '독서', '등산']\n",
      "3\n",
      "등산\n",
      "홍아빠\n",
      "{'엄마': '홍엄마', '관계': '홍엄마', '나이': 50}\n"
     ]
    }
   ],
   "source": [
    "#모든 취미 출력\n",
    "print(member['취미'])\n",
    "\n",
    "#취미 갯수 출력\n",
    "print(len(member['취미']))\n",
    "\n",
    "#마지막 취미 출력\n",
    "print(member['취미'][-1])\n",
    "\n",
    "#아빠 이름 출력\n",
    "print(member['가족'][0]['이름'])\n",
    "\n",
    "#엄마 나이 50\n",
    "member['가족'][1]['나이'] = 50\n",
    "\n",
    "print(member['가족'][1])\n"
   ]
  },
  {
   "cell_type": "code",
   "execution_count": null,
   "metadata": {},
   "outputs": [],
   "source": []
  }
 ],
 "metadata": {
  "kernelspec": {
   "display_name": "Python 3",
   "language": "python",
   "name": "python3"
  },
  "language_info": {
   "codemirror_mode": {
    "name": "ipython",
    "version": 3
   },
   "file_extension": ".py",
   "mimetype": "text/x-python",
   "name": "python",
   "nbconvert_exporter": "python",
   "pygments_lexer": "ipython3",
   "version": "3.13.2"
  }
 },
 "nbformat": 4,
 "nbformat_minor": 2
}
