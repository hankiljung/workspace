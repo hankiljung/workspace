{
 "cells": [
  {
   "cell_type": "code",
   "execution_count": null,
   "metadata": {},
   "outputs": [],
   "source": [
    "#1. 다음 리스트에서 최대값을 구하시오.\n",
    "list1 = [3, 10, 8, 7, 5]"
   ]
  },
  {
   "cell_type": "code",
   "execution_count": null,
   "metadata": {},
   "outputs": [],
   "source": [
    "#2. 다음 두 리스트에 존재하는 모든 요소의 합을 구하시오.\n",
    "list2 = [1, 3, 5]\n",
    "list3 = [10, 15, 20]"
   ]
  },
  {
   "cell_type": "code",
   "execution_count": null,
   "metadata": {},
   "outputs": [],
   "source": [
    "#3. 입력받은 정수의 약수를 모두 출력하세요\n",
    "#ex> 입력 10 -> 1, 2, 4, 5, 10"
   ]
  },
  {
   "cell_type": "code",
   "execution_count": null,
   "metadata": {},
   "outputs": [],
   "source": [
    "#4. 키보드로 입력받은 수 * 2한 값을 요소로 갖는 리스트를 생성하고 출력하세요.\n",
    "#ex> 입력 : 1,5,10 -> 결과 : [2, 10, 20]"
   ]
  },
  {
   "cell_type": "code",
   "execution_count": null,
   "metadata": {},
   "outputs": [],
   "source": [
    "#5. 다음의 데이터에서 't' 의 갯수를 구하시오.\n",
    "#힌트 : 파이썬은 문자열도 리스트이기에 반복문을 사용할 수 있음\n",
    "data = [['brother', 'mother', 'sister']]"
   ]
  }
 ],
 "metadata": {
  "language_info": {
   "name": "python"
  }
 },
 "nbformat": 4,
 "nbformat_minor": 2
}
